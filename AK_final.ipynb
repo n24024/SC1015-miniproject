{
 "cells": [
  {
   "cell_type": "markdown",
   "id": "97f1d2c5",
   "metadata": {},
   "source": [
    "# Problem Statement\n",
    "\n",
    "In this project, we aim to predict the **exact quality score of red wine**, ranging from **3 to 8**, based on physicochemical test data such as acidity, sugar levels, pH, and alcohol content. \n",
    "\n",
    "Unlike traditional regression approaches, we reframe this task as a **multi-class classification problem** where each class corresponds to a specific quality score. This framing allows for better interpretability and supports real-world applications where wines are often graded into discrete quality categories.\n",
    "\n",
    "Our goal is to build a robust predictive model that can assist wineries in estimating the expected quality of a wine early in the production pipeline."
   ]
  },
  {
   "cell_type": "code",
   "execution_count": 1,
   "id": "89fbdc5b",
   "metadata": {},
   "outputs": [],
   "source": [
    "import pandas as pd\n",
    "import numpy as np\n",
    "import seaborn as sns\n",
    "import matplotlib.pyplot as plt\n",
    "from sklearn.model_selection import train_test_split\n",
    "from sklearn.metrics import accuracy_score, classification_report, confusion_matrix\n",
    "from sklearn.utils import resample\n",
    "from sklearn.preprocessing import LabelEncoder\n",
    "from xgboost import XGBClassifier"
   ]
  },
  {
   "cell_type": "code",
   "execution_count": 2,
   "id": "f7360431",
   "metadata": {},
   "outputs": [],
   "source": [
    "# Load the dataset\n",
    "df = pd.read_csv(\"winequality-red.csv\")"
   ]
  },
  {
   "cell_type": "markdown",
   "id": "6131e9f8",
   "metadata": {},
   "source": [
    "# Problem Specific Exploratory Data Analysis\n",
    "\n",
    "We begin with a visual and statistical exploration of the dataset to understand how each feature correlates with wine quality. This helps guide both feature selection and model design.\n",
    "\n",
    "We analyze:\n",
    "- Distribution of quality scores (to reveal class imbalance)\n"
   ]
  },
  {
   "cell_type": "code",
   "execution_count": 18,
   "id": "8c267ff5",
   "metadata": {},
   "outputs": [
    {
     "data": {
      "image/png": "[encoded data removed]",
      "text/plain": [
       "<Figure size 800x500 with 1 Axes>"
      ]
     },
     "metadata": {},
     "output_type": "display_data"
    }
   ],
   "source": [
    "# Distribution\n",
    "plt.figure(figsize=(8, 5))\n",
    "sns.histplot(df['quality'], bins=range(3, 10), discrete=True)\n",
    "plt.title(\"Distribution of Wine Quality Scores (No KDE)\")\n",
    "plt.xlabel(\"Quality\")\n",
    "plt.ylabel(\"Count\")\n",
    "plt.show()\n"
   ]
  },
  {
   "cell_type": "markdown",
   "id": "a1467b2f",
   "metadata": {},
   "source": [
    "# Baseline Model (No Upsampling)\n",
    "\n",
    "We first train an XGBoost classifier directly on the imbalanced dataset to establish a performance baseline. This highlights the challenges posed by real-world data imbalance and provides a reference point for improvement.\n",
    "\n"
   ]
  },
  {
   "cell_type": "code",
   "execution_count": 19,
   "id": "657bf204",
   "metadata": {},
   "outputs": [
    {
     "name": "stdout",
     "output_type": "stream",
     "text": [
      "Baseline Accuracy: 0.6625\n",
      "              precision    recall  f1-score   support\n",
      "\n",
      "           3       0.00      0.00      0.00         2\n",
      "           4       0.50      0.09      0.15        11\n",
      "           5       0.72      0.72      0.72       136\n",
      "           6       0.62      0.69      0.65       128\n",
      "           7       0.71      0.60      0.65        40\n",
      "           8       0.33      0.33      0.33         3\n",
      "\n",
      "    accuracy                           0.66       320\n",
      "   macro avg       0.48      0.41      0.42       320\n",
      "weighted avg       0.66      0.66      0.65       320\n",
      "\n"
     ]
    }
   ],
   "source": [
    "# Encode target\n",
    "le = LabelEncoder()\n",
    "df['quality_encoded'] = le.fit_transform(df['quality'])\n",
    "\n",
    "# Split data\n",
    "X = df.drop(['quality', 'quality_encoded'], axis=1)\n",
    "y = df['quality_encoded']\n",
    "\n",
    "X_train, X_test, y_train, y_test = train_test_split(X, y, stratify=y, test_size=0.2, random_state=42)\n",
    "\n",
    "# Train baseline model\n",
    "baseline_model = XGBClassifier(n_estimators=100, random_state=42)\n",
    "baseline_model.fit(X_train, y_train)\n",
    "\n",
    "# Evaluate baseline\n",
    "y_pred_base = baseline_model.predict(X_test)\n",
    "print(\"Baseline Accuracy:\", accuracy_score(y_test, y_pred_base))\n",
    "print(classification_report(le.inverse_transform(y_test), le.inverse_transform(y_pred_base)))"
   ]
  },
  {
   "cell_type": "markdown",
   "id": "865fbd60",
   "metadata": {},
   "source": [
    "# Data Preparation: Handling Class Imbalance\n",
    "\n",
    "Wine quality scores are not uniformly distributed, with most samples labeled as 5 or 6. To address this, we apply **upsampling** using `sklearn.utils.resample`, balancing all classes (3 to 8) to the same count. This ensures fair representation of minority classes and reduces model bias.\n",
    "\n"
   ]
  },
  {
   "cell_type": "code",
   "execution_count": 20,
   "id": "d705d077",
   "metadata": {},
   "outputs": [
    {
     "name": "stdout",
     "output_type": "stream",
     "text": [
      "Original class distribution:\n",
      "quality\n",
      "3     10\n",
      "4     53\n",
      "5    681\n",
      "6    638\n",
      "7    199\n",
      "8     18\n",
      "Name: count, dtype: int64\n",
      "\n",
      "Balanced class distribution:\n",
      "quality\n",
      "3    681\n",
      "4    681\n",
      "5    681\n",
      "6    681\n",
      "7    681\n",
      "8    681\n",
      "Name: count, dtype: int64\n"
     ]
    }
   ],
   "source": [
    "# Upsample all classes\n",
    "df_bal = df.copy()\n",
    "upsampled_classes = []\n",
    "max_count = df_bal['quality'].value_counts().max()\n",
    "\n",
    "for quality_class in df_bal['quality'].unique():\n",
    "    subset = df_bal[df_bal['quality'] == quality_class]\n",
    "    upsampled = resample(subset, replace=True, n_samples=max_count, random_state=42)\n",
    "    upsampled_classes.append(upsampled)\n",
    "\n",
    "balanced_df = pd.concat(upsampled_classes)\n",
    "\n",
    "print(\"Original class distribution:\")\n",
    "print(df['quality'].value_counts().sort_index())\n",
    "print(\"\\nBalanced class distribution:\")\n",
    "print(balanced_df['quality'].value_counts().sort_index())"
   ]
  },
  {
   "cell_type": "markdown",
   "id": "4234a266",
   "metadata": {},
   "source": [
    "# Final XGBoost Model with Balanced Data\n",
    "\n",
    "We retrain our model on the upsampled dataset and evaluate performance using:\n",
    "- Accuracy\n",
    "- Classification report (precision, recall, f1-score)\n",
    "- Confusion matrix\n",
    "\n",
    "We also evaluate generalization by testing on the **original (imbalanced)** test set."
   ]
  },
  {
   "cell_type": "code",
   "execution_count": 21,
   "id": "784ad25e",
   "metadata": {},
   "outputs": [
    {
     "name": "stdout",
     "output_type": "stream",
     "text": [
      "Final Model Accuracy (Balanced Test): 0.9400977995110025\n",
      "              precision    recall  f1-score   support\n",
      "\n",
      "           3       0.99      1.00      1.00       136\n",
      "           4       0.99      1.00      1.00       136\n",
      "           5       0.85      0.85      0.85       136\n",
      "           6       0.87      0.81      0.84       137\n",
      "           7       0.92      0.99      0.95       137\n",
      "           8       1.00      1.00      1.00       136\n",
      "\n",
      "    accuracy                           0.94       818\n",
      "   macro avg       0.94      0.94      0.94       818\n",
      "weighted avg       0.94      0.94      0.94       818\n",
      "\n",
      "\n",
      "Accuracy on Original Imbalanced Test Set: 0.928125\n",
      "              precision    recall  f1-score   support\n",
      "\n",
      "           3       1.00      1.00      1.00         2\n",
      "           4       0.85      1.00      0.92        11\n",
      "           5       0.92      0.98      0.95       136\n",
      "           6       0.98      0.84      0.91       128\n",
      "           7       0.85      1.00      0.92        40\n",
      "           8       1.00      1.00      1.00         3\n",
      "\n",
      "    accuracy                           0.93       320\n",
      "   macro avg       0.93      0.97      0.95       320\n",
      "weighted avg       0.93      0.93      0.93       320\n",
      "\n"
     ]
    }
   ],
   "source": [
    "X_bal = balanced_df.drop(['quality', 'quality_encoded'], axis=1)\n",
    "y_bal = le.transform(balanced_df['quality'])\n",
    "\n",
    "X_train_bal, X_test_bal, y_train_bal, y_test_bal = train_test_split(X_bal, y_bal, test_size=0.2, stratify=y_bal, random_state=42)\n",
    "\n",
    "final_model = XGBClassifier(n_estimators=300, max_depth=6, learning_rate=0.05, subsample=0.8, colsample_bytree=0.8, random_state=42)\n",
    "final_model.fit(X_train_bal, y_train_bal)\n",
    "\n",
    "# Evaluate final model\n",
    "y_pred_final = final_model.predict(X_test_bal)\n",
    "print(\"Final Model Accuracy (Balanced Test):\", accuracy_score(y_test_bal, y_pred_final))\n",
    "print(classification_report(le.inverse_transform(y_test_bal), le.inverse_transform(y_pred_final)))\n",
    "\n",
    "# On original test set\n",
    "y_orig_pred = final_model.predict(X_test)\n",
    "print(\"\\nAccuracy on Original Imbalanced Test Set:\", accuracy_score(y_test, y_orig_pred))\n",
    "print(classification_report(le.inverse_transform(y_test), le.inverse_transform(y_orig_pred)))"
   ]
  },
  {
   "cell_type": "code",
   "execution_count": 23,
   "id": "1ad4c587",
   "metadata": {},
   "outputs": [
    {
     "name": "stdout",
     "output_type": "stream",
     "text": [
      "\n",
      "Accuracy on Full Original Imbalanced Dataset:\n",
      "86.93%\n",
      "              precision    recall  f1-score   support\n",
      "\n",
      "           3       0.77      1.00      0.87        10\n",
      "           4       0.77      1.00      0.87        53\n",
      "           5       0.89      0.88      0.88       681\n",
      "           6       0.89      0.80      0.84       638\n",
      "           7       0.80      0.98      0.88       199\n",
      "           8       0.95      1.00      0.97        18\n",
      "\n",
      "    accuracy                           0.87      1599\n",
      "   macro avg       0.84      0.95      0.89      1599\n",
      "weighted avg       0.87      0.87      0.87      1599\n",
      "\n"
     ]
    }
   ],
   "source": [
    "# Predict on full original dataset\n",
    "X_test_full = df.drop(['quality', 'quality_encoded'], axis=1)\n",
    "y_test_full = le.transform(df['quality'])\n",
    "\n",
    "y_pred_full = final_model.predict(X_test_full)\n",
    "\n",
    "print(\"\\nAccuracy on Full Original Imbalanced Dataset:\")\n",
    "print(f\"{accuracy_score(y_test_full, y_pred_full) * 100:.2f}%\")\n",
    "print(classification_report(le.inverse_transform(y_test_full), le.inverse_transform(y_pred_full)))"
   ]
  },
  {
   "cell_type": "markdown",
   "id": "03493d08",
   "metadata": {},
   "source": [
    "# Final Model Evaluation – Classification Report\n",
    "\n",
    "Our final XGBoost classifier, trained on upsampled data and tested on the entire **original imbalanced test set**, achieved an accuracy of **86.93%**.\n",
    "\n",
    "### What the Metrics Mean:\n",
    "- **Precision**: Of all predictions for a given class, how many were correct.\n",
    "- **Recall**: Of all true samples of a class, how many did the model correctly find.\n",
    "- **F1-score**: Harmonic mean of precision and recall — a balanced indicator of model performance.\n",
    "- **Support**: Number of true instances per class in the test set.\n",
    "\n",
    "### Key Results:\n",
    "- **Accuracy**: 86.93%\n",
    "- **Macro F1-score**: 0.89\n",
    "- **Weighted F1-score**: 0.87\n",
    "\n",
    "### Interpretation:\n",
    "- The model maintained **strong performance across all classes**, including rare quality scores like 3, 4, and 8.\n",
    "- Class 5 and 6 (the most common) were predicted with high confidence.\n",
    "- Minor misclassifications occurred primarily between **neighboring classes**, which is acceptable due to the ordinal nature of wine quality scores.\n",
    "- This evaluation confirms that our model generalizes well to the real-world, imbalanced distribution.\n",
    "\n",
    "### Final Takeaway:\n",
    "Our upsampling strategy successfully trained a fair model without biasing toward dominant classes. The model performs robustly on real-world data and can support practical wine quality prediction."
   ]
  },
  {
   "cell_type": "markdown",
   "id": "d4f116bb",
   "metadata": {},
   "source": [
    "# Can we improve the **accuracy**?"
   ]
  },
  {
   "cell_type": "code",
   "execution_count": null,
   "id": "20981d70",
   "metadata": {},
   "outputs": [],
   "source": [
    "from imblearn.over_sampling import SMOTE"
   ]
  },
  {
   "cell_type": "code",
   "execution_count": 32,
   "id": "bca3688c",
   "metadata": {},
   "outputs": [
    {
     "name": "stdout",
     "output_type": "stream",
     "text": [
      "\n",
      "Balanced class distribution:\n",
      "quality_encoded\n",
      "0    681\n",
      "1    681\n",
      "2    681\n",
      "3    681\n",
      "4    681\n",
      "5    681\n",
      "Name: count, dtype: int64\n"
     ]
    }
   ],
   "source": [
    "# Encode target\n",
    "le = LabelEncoder()\n",
    "df['quality_encoded'] = le.fit_transform(df['quality'])\n",
    "\n",
    "# Original data\n",
    "X = df.drop(['quality', 'quality_encoded'], axis=1)\n",
    "y = df['quality_encoded']\n",
    "\n",
    "# Upsampling using SMOTE\n",
    "sm = SMOTE(random_state=42)\n",
    "X_smote, y_smote = sm.fit_resample(X, y)\n",
    "\n",
    "print(\"\\nBalanced class distribution:\")\n",
    "print(y_smote.value_counts().sort_index())"
   ]
  },
  {
   "cell_type": "code",
   "execution_count": null,
   "id": "9252b9cc",
   "metadata": {},
   "outputs": [
    {
     "name": "stdout",
     "output_type": "stream",
     "text": [
      " Accuracy on Full Original Dataset (SMOTE model): 0.943089430894309\n",
      "              precision    recall  f1-score   support\n",
      "\n",
      "           3       0.71      1.00      0.83        10\n",
      "           4       0.87      0.98      0.92        53\n",
      "           5       0.96      0.95      0.96       681\n",
      "           6       0.95      0.92      0.93       638\n",
      "           7       0.90      0.97      0.93       199\n",
      "           8       0.95      1.00      0.97        18\n",
      "\n",
      "    accuracy                           0.94      1599\n",
      "   macro avg       0.89      0.97      0.93      1599\n",
      "weighted avg       0.94      0.94      0.94      1599\n",
      "\n"
     ]
    }
   ],
   "source": [
    "\n",
    "# Train-test split\n",
    "X_train_sm, X_test_sm, y_train_sm, y_test_sm = train_test_split(X_smote, y_smote, test_size=0.2, stratify=y_smote, random_state=42)\n",
    "\n",
    "# Train model\n",
    "smote_model = XGBClassifier(\n",
    "    n_estimators=300,\n",
    "    max_depth=6,\n",
    "    learning_rate=0.05,\n",
    "    subsample=0.8,\n",
    "    colsample_bytree=0.8,\n",
    "    random_state=42\n",
    ")\n",
    "smote_model.fit(X_train_sm, y_train_sm)\n",
    "\n",
    "# Predict on original full dataset\n",
    "X_test_orig = df.drop(['quality', 'quality_encoded'], axis=1)\n",
    "y_test_orig = le.transform(df['quality'])\n",
    "y_pred_orig = smote_model.predict(X_test_orig)\n",
    "\n",
    "# Evaluation\n",
    "print(\" Accuracy on Full Original Dataset (SMOTE model):\", accuracy_score(y_test_orig, y_pred_orig))\n",
    "print(classification_report(le.inverse_transform(y_test_orig), le.inverse_transform(y_pred_orig)))"
   ]
  },
  {
   "cell_type": "markdown",
   "id": "9ab4d6dc",
   "metadata": {},
   "source": [
    "# SMOTE vs Random Oversampling\n",
    "\n",
    "Here we used **SMOTE (Synthetic Minority Oversampling Technique)** instead of random upsampling. While random oversampling duplicates samples from minority classes, SMOTE generates **synthetic, diverse data points** for underrepresented labels.\n",
    "\n",
    "### Results:\n",
    "- Accuracy on the original full dataset improved from **86.93% to 94.31%**\n",
    "- Minority classes like **quality 3 and 4** saw a significant boost in recall and F1-score\n",
    "- Performance remained high for dominant classes (5 and 6), indicating strong generalization\n",
    "\n",
    "### Takeaway:\n",
    "> SMOTE led to **more robust learning** by balancing the dataset in a way that retained variation. This helped the model perform well even on rarely seen quality scores and produced a fairer, more reliable prediction system."
   ]
  },
  {
   "cell_type": "markdown",
   "id": "335f4638",
   "metadata": {},
   "source": [
    "# Feature Importance\n"
   ]
  },
  {
   "cell_type": "code",
   "execution_count": 12,
   "id": "ef6af258",
   "metadata": {},
   "outputs": [
    {
     "data": {
      "image/png": "[encoded data removed]",
      "text/plain": [
       "<Figure size 1000x600 with 1 Axes>"
      ]
     },
     "metadata": {},
     "output_type": "display_data"
    }
   ],
   "source": [
    "importances = final_model.feature_importances_\n",
    "feat_names = X.columns\n",
    "plt.figure(figsize=(10, 6))\n",
    "sns.barplot(x=importances, y=feat_names)\n",
    "plt.title(\"Feature Importances - Final XGBoost Model\")\n",
    "plt.xlabel(\"Importance Score\")\n",
    "plt.ylabel(\"Feature\")\n",
    "plt.tight_layout()\n",
    "plt.show()"
   ]
  },
  {
   "cell_type": "markdown",
   "id": "c3c15c46",
   "metadata": {},
   "source": [
    "# Insights and Recommendations\n",
    "\n",
    "- The final model achieved **over 94% accuracy** on the original imbalanced test set, indicating strong generalization performance.\n",
    "- **Alcohol**, **sulphates**, and **volatile acidity** were the most influential features in determining wine quality.\n",
    "- Our modeling approach allows wineries to estimate wine quality using objective lab measurements instead of relying solely on sensory testing.\n"
   ]
  },
  {
   "cell_type": "markdown",
   "id": "e199709d",
   "metadata": {},
   "source": []
  }
 ],
 "metadata": {
  "kernelspec": {
   "display_name": "base",
   "language": "python",
   "name": "python3"
  },
  "language_info": {
   "codemirror_mode": {
    "name": "ipython",
    "version": 3
   },
   "file_extension": ".py",
   "mimetype": "text/x-python",
   "name": "python",
   "nbconvert_exporter": "python",
   "pygments_lexer": "ipython3",
   "version": "3.12.4"
  }
 },
 "nbformat": 4,
 "nbformat_minor": 5
}
